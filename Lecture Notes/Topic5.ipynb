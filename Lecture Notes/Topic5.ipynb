{
 "cells": [
  {
   "cell_type": "code",
   "execution_count": null,
   "metadata": {},
   "outputs": [],
   "source": [
    "#Gini's Mean Difference\n",
    "\n",
    "import math\n",
    "def gini(lst):\n",
    "    res = 0\n",
    "    length = len(lst)\n",
    "    for i in range(length):\n",
    "        for j in range(length):\n",
    "            if i >= j:\n",
    "                continue\n",
    "            res += abs(lst[i] - lst[j])\n",
    "    print(res)\n",
    "    return res / math.comb(length, 2)"
   ]
  }
 ],
 "metadata": {
  "kernelspec": {
   "display_name": "Python 3",
   "language": "python",
   "name": "python3"
  },
  "language_info": {
   "codemirror_mode": {
    "name": "ipython",
    "version": 3
   },
   "file_extension": ".py",
   "mimetype": "text/x-python",
   "name": "python",
   "nbconvert_exporter": "python",
   "pygments_lexer": "ipython3",
   "version": "3.7.6"
  }
 },
 "nbformat": 4,
 "nbformat_minor": 4
}
