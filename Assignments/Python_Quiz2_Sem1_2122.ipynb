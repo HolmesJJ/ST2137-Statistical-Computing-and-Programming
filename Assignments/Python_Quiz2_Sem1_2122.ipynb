{
 "cells": [
  {
   "cell_type": "code",
   "execution_count": 1,
   "metadata": {},
   "outputs": [],
   "source": [
    "import pandas as pd\n",
    "import numpy as np\n",
    "import scipy\n",
    "import statistics as st\n",
    "from statistics import mean\n",
    "from statistics import median\n",
    "from statistics import variance\n",
    "import statsmodels.api\n",
    "from scipy import stats\n",
    "from statsmodels.formula.api import ols\n",
    "import math\n",
    "import scipy.stats as scst\n",
    "import matplotlib.pyplot as plt\n",
    "import seaborn as sns\n",
    "%matplotlib inline\n",
    "sns.set(style=\"darkgrid\") # make the plot (like histogram) has clearer looking\n",
    "import statsmodels.api as sm\n",
    "from statsmodels.stats.weightstats import DescrStatsW, CompareMeans, ttest_ind\n",
    "from scipy.stats.mstats import winsorize\n"
   ]
  },
  {
   "cell_type": "code",
   "execution_count": 2,
   "metadata": {},
   "outputs": [
    {
     "data": {
      "text/html": [
       "<div>\n",
       "<style scoped>\n",
       "    .dataframe tbody tr th:only-of-type {\n",
       "        vertical-align: middle;\n",
       "    }\n",
       "\n",
       "    .dataframe tbody tr th {\n",
       "        vertical-align: top;\n",
       "    }\n",
       "\n",
       "    .dataframe thead th {\n",
       "        text-align: right;\n",
       "    }\n",
       "</style>\n",
       "<table border=\"1\" class=\"dataframe\">\n",
       "  <thead>\n",
       "    <tr style=\"text-align: right;\">\n",
       "      <th></th>\n",
       "      <th>instant</th>\n",
       "      <th>dteday</th>\n",
       "      <th>season</th>\n",
       "      <th>yr</th>\n",
       "      <th>mnth</th>\n",
       "      <th>holiday</th>\n",
       "      <th>weekday</th>\n",
       "      <th>workingday</th>\n",
       "      <th>weathersit</th>\n",
       "      <th>temp</th>\n",
       "      <th>atemp</th>\n",
       "      <th>hum</th>\n",
       "      <th>windspeed</th>\n",
       "      <th>casual</th>\n",
       "      <th>registered</th>\n",
       "      <th>cnt</th>\n",
       "    </tr>\n",
       "  </thead>\n",
       "  <tbody>\n",
       "    <tr>\n",
       "      <th>0</th>\n",
       "      <td>1</td>\n",
       "      <td>2011-01-01</td>\n",
       "      <td>1</td>\n",
       "      <td>0</td>\n",
       "      <td>1</td>\n",
       "      <td>0</td>\n",
       "      <td>6</td>\n",
       "      <td>0</td>\n",
       "      <td>2</td>\n",
       "      <td>0.344167</td>\n",
       "      <td>0.363625</td>\n",
       "      <td>0.805833</td>\n",
       "      <td>0.160446</td>\n",
       "      <td>331</td>\n",
       "      <td>654</td>\n",
       "      <td>985</td>\n",
       "    </tr>\n",
       "    <tr>\n",
       "      <th>1</th>\n",
       "      <td>2</td>\n",
       "      <td>2011-01-02</td>\n",
       "      <td>1</td>\n",
       "      <td>0</td>\n",
       "      <td>1</td>\n",
       "      <td>0</td>\n",
       "      <td>0</td>\n",
       "      <td>0</td>\n",
       "      <td>2</td>\n",
       "      <td>0.363478</td>\n",
       "      <td>0.353739</td>\n",
       "      <td>0.696087</td>\n",
       "      <td>0.248539</td>\n",
       "      <td>131</td>\n",
       "      <td>670</td>\n",
       "      <td>801</td>\n",
       "    </tr>\n",
       "    <tr>\n",
       "      <th>2</th>\n",
       "      <td>3</td>\n",
       "      <td>2011-01-03</td>\n",
       "      <td>1</td>\n",
       "      <td>0</td>\n",
       "      <td>1</td>\n",
       "      <td>0</td>\n",
       "      <td>1</td>\n",
       "      <td>1</td>\n",
       "      <td>1</td>\n",
       "      <td>0.196364</td>\n",
       "      <td>0.189405</td>\n",
       "      <td>0.437273</td>\n",
       "      <td>0.248309</td>\n",
       "      <td>120</td>\n",
       "      <td>1229</td>\n",
       "      <td>1349</td>\n",
       "    </tr>\n",
       "    <tr>\n",
       "      <th>3</th>\n",
       "      <td>4</td>\n",
       "      <td>2011-01-04</td>\n",
       "      <td>1</td>\n",
       "      <td>0</td>\n",
       "      <td>1</td>\n",
       "      <td>0</td>\n",
       "      <td>2</td>\n",
       "      <td>1</td>\n",
       "      <td>1</td>\n",
       "      <td>0.200000</td>\n",
       "      <td>0.212122</td>\n",
       "      <td>0.590435</td>\n",
       "      <td>0.160296</td>\n",
       "      <td>108</td>\n",
       "      <td>1454</td>\n",
       "      <td>1562</td>\n",
       "    </tr>\n",
       "    <tr>\n",
       "      <th>4</th>\n",
       "      <td>5</td>\n",
       "      <td>2011-01-05</td>\n",
       "      <td>1</td>\n",
       "      <td>0</td>\n",
       "      <td>1</td>\n",
       "      <td>0</td>\n",
       "      <td>3</td>\n",
       "      <td>1</td>\n",
       "      <td>1</td>\n",
       "      <td>0.226957</td>\n",
       "      <td>0.229270</td>\n",
       "      <td>0.436957</td>\n",
       "      <td>0.186900</td>\n",
       "      <td>82</td>\n",
       "      <td>1518</td>\n",
       "      <td>1600</td>\n",
       "    </tr>\n",
       "    <tr>\n",
       "      <th>...</th>\n",
       "      <td>...</td>\n",
       "      <td>...</td>\n",
       "      <td>...</td>\n",
       "      <td>...</td>\n",
       "      <td>...</td>\n",
       "      <td>...</td>\n",
       "      <td>...</td>\n",
       "      <td>...</td>\n",
       "      <td>...</td>\n",
       "      <td>...</td>\n",
       "      <td>...</td>\n",
       "      <td>...</td>\n",
       "      <td>...</td>\n",
       "      <td>...</td>\n",
       "      <td>...</td>\n",
       "      <td>...</td>\n",
       "    </tr>\n",
       "    <tr>\n",
       "      <th>726</th>\n",
       "      <td>727</td>\n",
       "      <td>2012-12-27</td>\n",
       "      <td>1</td>\n",
       "      <td>1</td>\n",
       "      <td>12</td>\n",
       "      <td>0</td>\n",
       "      <td>4</td>\n",
       "      <td>1</td>\n",
       "      <td>2</td>\n",
       "      <td>0.254167</td>\n",
       "      <td>0.226642</td>\n",
       "      <td>0.652917</td>\n",
       "      <td>0.350133</td>\n",
       "      <td>247</td>\n",
       "      <td>1867</td>\n",
       "      <td>2114</td>\n",
       "    </tr>\n",
       "    <tr>\n",
       "      <th>727</th>\n",
       "      <td>728</td>\n",
       "      <td>2012-12-28</td>\n",
       "      <td>1</td>\n",
       "      <td>1</td>\n",
       "      <td>12</td>\n",
       "      <td>0</td>\n",
       "      <td>5</td>\n",
       "      <td>1</td>\n",
       "      <td>2</td>\n",
       "      <td>0.253333</td>\n",
       "      <td>0.255046</td>\n",
       "      <td>0.590000</td>\n",
       "      <td>0.155471</td>\n",
       "      <td>644</td>\n",
       "      <td>2451</td>\n",
       "      <td>3095</td>\n",
       "    </tr>\n",
       "    <tr>\n",
       "      <th>728</th>\n",
       "      <td>729</td>\n",
       "      <td>2012-12-29</td>\n",
       "      <td>1</td>\n",
       "      <td>1</td>\n",
       "      <td>12</td>\n",
       "      <td>0</td>\n",
       "      <td>6</td>\n",
       "      <td>0</td>\n",
       "      <td>2</td>\n",
       "      <td>0.253333</td>\n",
       "      <td>0.242400</td>\n",
       "      <td>0.752917</td>\n",
       "      <td>0.124383</td>\n",
       "      <td>159</td>\n",
       "      <td>1182</td>\n",
       "      <td>1341</td>\n",
       "    </tr>\n",
       "    <tr>\n",
       "      <th>729</th>\n",
       "      <td>730</td>\n",
       "      <td>2012-12-30</td>\n",
       "      <td>1</td>\n",
       "      <td>1</td>\n",
       "      <td>12</td>\n",
       "      <td>0</td>\n",
       "      <td>0</td>\n",
       "      <td>0</td>\n",
       "      <td>1</td>\n",
       "      <td>0.255833</td>\n",
       "      <td>0.231700</td>\n",
       "      <td>0.483333</td>\n",
       "      <td>0.350754</td>\n",
       "      <td>364</td>\n",
       "      <td>1432</td>\n",
       "      <td>1796</td>\n",
       "    </tr>\n",
       "    <tr>\n",
       "      <th>730</th>\n",
       "      <td>731</td>\n",
       "      <td>2012-12-31</td>\n",
       "      <td>1</td>\n",
       "      <td>1</td>\n",
       "      <td>12</td>\n",
       "      <td>0</td>\n",
       "      <td>1</td>\n",
       "      <td>1</td>\n",
       "      <td>2</td>\n",
       "      <td>0.215833</td>\n",
       "      <td>0.223487</td>\n",
       "      <td>0.577500</td>\n",
       "      <td>0.154846</td>\n",
       "      <td>439</td>\n",
       "      <td>2290</td>\n",
       "      <td>2729</td>\n",
       "    </tr>\n",
       "  </tbody>\n",
       "</table>\n",
       "<p>731 rows × 16 columns</p>\n",
       "</div>"
      ],
      "text/plain": [
       "     instant      dteday  season  yr  mnth  holiday  weekday  workingday  \\\n",
       "0          1  2011-01-01       1   0     1        0        6           0   \n",
       "1          2  2011-01-02       1   0     1        0        0           0   \n",
       "2          3  2011-01-03       1   0     1        0        1           1   \n",
       "3          4  2011-01-04       1   0     1        0        2           1   \n",
       "4          5  2011-01-05       1   0     1        0        3           1   \n",
       "..       ...         ...     ...  ..   ...      ...      ...         ...   \n",
       "726      727  2012-12-27       1   1    12        0        4           1   \n",
       "727      728  2012-12-28       1   1    12        0        5           1   \n",
       "728      729  2012-12-29       1   1    12        0        6           0   \n",
       "729      730  2012-12-30       1   1    12        0        0           0   \n",
       "730      731  2012-12-31       1   1    12        0        1           1   \n",
       "\n",
       "     weathersit      temp     atemp       hum  windspeed  casual  registered  \\\n",
       "0             2  0.344167  0.363625  0.805833   0.160446     331         654   \n",
       "1             2  0.363478  0.353739  0.696087   0.248539     131         670   \n",
       "2             1  0.196364  0.189405  0.437273   0.248309     120        1229   \n",
       "3             1  0.200000  0.212122  0.590435   0.160296     108        1454   \n",
       "4             1  0.226957  0.229270  0.436957   0.186900      82        1518   \n",
       "..          ...       ...       ...       ...        ...     ...         ...   \n",
       "726           2  0.254167  0.226642  0.652917   0.350133     247        1867   \n",
       "727           2  0.253333  0.255046  0.590000   0.155471     644        2451   \n",
       "728           2  0.253333  0.242400  0.752917   0.124383     159        1182   \n",
       "729           1  0.255833  0.231700  0.483333   0.350754     364        1432   \n",
       "730           2  0.215833  0.223487  0.577500   0.154846     439        2290   \n",
       "\n",
       "      cnt  \n",
       "0     985  \n",
       "1     801  \n",
       "2    1349  \n",
       "3    1562  \n",
       "4    1600  \n",
       "..    ...  \n",
       "726  2114  \n",
       "727  3095  \n",
       "728  1341  \n",
       "729  1796  \n",
       "730  2729  \n",
       "\n",
       "[731 rows x 16 columns]"
      ]
     },
     "execution_count": 2,
     "metadata": {},
     "output_type": "execute_result"
    }
   ],
   "source": [
    "bike = pd.read_csv (r\"C:/Data/bike_day.csv\",sep = \",\")\n",
    "bike"
   ]
  },
  {
   "cell_type": "markdown",
   "metadata": {},
   "source": [
    "# Q1 \n",
    "Calculate the average rental count on working days and the average rental count on non-working day"
   ]
  },
  {
   "cell_type": "code",
   "execution_count": 3,
   "metadata": {},
   "outputs": [],
   "source": [
    "cnt = bike['cnt']\n",
    "cnt_work = cnt[(bike['workingday'] == 1)]\n",
    "cnt_off = cnt[(bike['workingday'] == 0)]"
   ]
  },
  {
   "cell_type": "code",
   "execution_count": 4,
   "metadata": {},
   "outputs": [
    {
     "name": "stdout",
     "output_type": "stream",
     "text": [
      "4584.82\n",
      "4330.168831168831\n",
      "                    cnt\n",
      "workingday             \n",
      "0           4330.168831\n",
      "1           4584.820000\n"
     ]
    }
   ],
   "source": [
    "print(mean(cnt_work))\n",
    "print(mean(cnt_off))\n",
    "# OR another way as using the code below\n",
    "print(bike.groupby(['workingday']).agg({'cnt': 'mean'}) )"
   ]
  },
  {
   "cell_type": "markdown",
   "metadata": {},
   "source": [
    "# Q2"
   ]
  },
  {
   "cell_type": "code",
   "execution_count": 5,
   "metadata": {},
   "outputs": [
    {
     "data": {
      "image/png": "[encoded data removed]",
      "text/plain": [
       "<Figure size 432x288 with 1 Axes>"
      ]
     },
     "metadata": {},
     "output_type": "display_data"
    }
   ],
   "source": [
    "# check  the  normality  of  the  rental  count  on  working  days\n",
    "# histogram with normal density curve\n",
    "# QQ plot\n",
    "# Shapiro Wilk test\n",
    "\n",
    "l = list(np.arange(0,8500,10))\n",
    "y = scst.norm.pdf(l,loc = mean(cnt_work),scale = st.stdev(cnt_work)) # this equivalent to qnorm in R\n",
    "plt.plot(l, y)\n",
    "plt.hist(cnt_work, range=None, density=True, color='C2') \n",
    "plt.xlabel('Rental Count on Working day') \n",
    "plt.ylabel('Probability') \n",
    "plt.show()\n",
    "# histogram looks ok, quite symmetric.\n"
   ]
  },
  {
   "cell_type": "code",
   "execution_count": 6,
   "metadata": {},
   "outputs": [
    {
     "data": {
      "image/png": "[encoded data removed]",
      "text/plain": [
       "<Figure size 432x288 with 1 Axes>"
      ]
     },
     "metadata": {},
     "output_type": "display_data"
    }
   ],
   "source": [
    "# Q2,  QQ plot\n",
    "import pylab\n",
    "scst.probplot(cnt_work, dist=\"norm\", plot=pylab)\n",
    "pylab.title('QQ Plot of Rental Count on Workingday') \n",
    "pylab.show()\n",
    "# both tails are not normal (shorter/lighter/thinner than normal)"
   ]
  },
  {
   "cell_type": "code",
   "execution_count": 7,
   "metadata": {},
   "outputs": [
    {
     "name": "stdout",
     "output_type": "stream",
     "text": [
      "(0.9765782356262207, 3.4888859090642654e-07)\n"
     ]
    }
   ],
   "source": [
    "# Q2, Shapiro Wilk test for the normality of cnt_work,\n",
    "print(scst.shapiro(cnt_work))\n",
    "\n",
    "# p- value = 3.4888859090642654e-07, hence it's NOT normal."
   ]
  },
  {
   "cell_type": "code",
   "execution_count": null,
   "metadata": {},
   "outputs": [],
   "source": [
    "#comments: rental counts on working day is NOT normally distributed (from histogram, QQ plot and Shapiro-Wilk normality test)"
   ]
  },
  {
   "cell_type": "markdown",
   "metadata": {},
   "source": [
    "# Q3"
   ]
  },
  {
   "cell_type": "code",
   "execution_count": 8,
   "metadata": {},
   "outputs": [
    {
     "data": {
      "image/png": "[encoded data removed]",
      "text/plain": [
       "<Figure size 432x288 with 1 Axes>"
      ]
     },
     "metadata": {},
     "output_type": "display_data"
    }
   ],
   "source": [
    "# check  the  normality  of  the  rental  count  on  NON-working  days\n",
    "# Similar as above, using hostogram, QQ plot and Shapiro Wilk test\n",
    "\n",
    "l = list(np.arange(0,8500,10))\n",
    "y = scst.norm.pdf(l,loc = mean(cnt_off),scale = st.stdev(cnt_off)) \n",
    "plt.plot(l, y)\n",
    "plt.hist(cnt_work, range=None, density=True, color='C4') \n",
    "plt.xlabel('Rental Count on NON Workingday') \n",
    "plt.ylabel('Probability') \n",
    "plt.show()\n",
    "# histogram looks ok, quite symmetric."
   ]
  },
  {
   "cell_type": "code",
   "execution_count": 9,
   "metadata": {},
   "outputs": [
    {
     "data": {
      "image/png": "[encoded data removed]",
      "text/plain": [
       "<Figure size 432x288 with 1 Axes>"
      ]
     },
     "metadata": {},
     "output_type": "display_data"
    }
   ],
   "source": [
    "# Q3, QQ plot\n",
    "import pylab\n",
    "scst.probplot(cnt_off, dist=\"norm\", plot=pylab)\n",
    "pylab.title('QQ Plot of Rental Count on NON Workingday') \n",
    "pylab.show()\n",
    "# both tails are not normal (shorter/lighter/thinner than normal)"
   ]
  },
  {
   "cell_type": "code",
   "execution_count": 10,
   "metadata": {},
   "outputs": [
    {
     "name": "stdout",
     "output_type": "stream",
     "text": [
      "(0.9761089086532593, 0.0006035277037881315)\n"
     ]
    }
   ],
   "source": [
    "# Q3, Shapiro Wilk test for the normality of cnt_off,\n",
    "print(scst.shapiro(cnt_off))\n",
    "\n",
    "# p- value = 0.0006035, hence it's NOT normal."
   ]
  },
  {
   "cell_type": "code",
   "execution_count": null,
   "metadata": {},
   "outputs": [],
   "source": [
    "#comments: rental counts on NONworking day is NOT normally distributed (from histogram, QQ plot and Shapiro-Wilk normality test)"
   ]
  },
  {
   "cell_type": "markdown",
   "metadata": {},
   "source": [
    "# Q4"
   ]
  },
  {
   "cell_type": "code",
   "execution_count": 11,
   "metadata": {},
   "outputs": [
    {
     "name": "stdout",
     "output_type": "stream",
     "text": [
      "4.345365092777056\n",
      "p-value of Levene test is:  0.037457323247039445\n"
     ]
    }
   ],
   "source": [
    "# Test if the variances of the rental count in two groups(working day and non-working day) are the same\n",
    "\n",
    "Levene, p = scipy.stats.levene(cnt_work, cnt_off)\n",
    "print(Levene)\n",
    "print('p-value of Levene test is: ',p)\n",
    "\n",
    "# Since both samples are NOT normal, we use Levene test to test the equality of variance.\n",
    "# At alpha = 0.05, conclude: UNequal variances"
   ]
  },
  {
   "cell_type": "code",
   "execution_count": 12,
   "metadata": {},
   "outputs": [
    {
     "data": {
      "text/plain": [
       "BartlettResult(statistic=2.5110442153377317, pvalue=0.11305100007087257)"
      ]
     },
     "execution_count": 12,
     "metadata": {},
     "output_type": "execute_result"
    }
   ],
   "source": [
    "scipy.stats.bartlett(cnt_work, cnt_off) # this test is NOT suitable when sample is NOT normal.\n"
   ]
  },
  {
   "cell_type": "markdown",
   "metadata": {},
   "source": [
    "# Q5: \n",
    "(1) 2 samples are independent,\n",
    "\n",
    "(2) Both samples are not normal, \n",
    "\n",
    "(3) But sample size are very large hence, can use t-test,\n",
    "\n",
    "(4) Variances are not equal hence use t-test with unequal variances\n",
    "\n",
    "(5) One-sided test"
   ]
  },
  {
   "cell_type": "markdown",
   "metadata": {},
   "source": [
    "# Q6"
   ]
  },
  {
   "cell_type": "code",
   "execution_count": 12,
   "metadata": {},
   "outputs": [
    {
     "name": "stdout",
     "output_type": "stream",
     "text": [
      "Test statistic =  1.6013720686967898\n",
      "p-value is  0.055028689135085296\n"
     ]
    }
   ],
   "source": [
    "# Q6 : Test 1\n",
    "import statsmodels.api\n",
    "Test1, p, df = statsmodels.stats.weightstats.ttest_ind(cnt_work, cnt_off, alternative='larger', usevar='unequal', value=0)\n",
    "print('Test statistic = ', Test1) # report the test statistic only\n",
    "print('p-value is ',p) # report the p-value only\n",
    "#print('degree of freedom ', df) # optional to print or not\n",
    "\n",
    "# Conclusion: p-value = 0.055 > alpha = 0.01.\n",
    "# Do not reject Ho. The average rental count on working and non-working days might be similar."
   ]
  },
  {
   "cell_type": "markdown",
   "metadata": {},
   "source": [
    "# Q7"
   ]
  },
  {
   "cell_type": "code",
   "execution_count": 13,
   "metadata": {},
   "outputs": [],
   "source": [
    "# Q7: create the variable count.\n",
    "\n",
    "count = np.where( (bike.cnt>2500)&(bike.cnt<=6500), 'med', np.where( bike.cnt<2500, 'low','high') )\n",
    "#print(count)"
   ]
  },
  {
   "cell_type": "code",
   "execution_count": 14,
   "metadata": {},
   "outputs": [
    {
     "name": "stdout",
     "output_type": "stream",
     "text": [
      "medium    446\n",
      "low       144\n",
      "high      141\n",
      "Name: count2, dtype: int64\n",
      "low       144\n",
      "medium    446\n",
      "high      141\n",
      "Name: count2, dtype: int64\n"
     ]
    }
   ],
   "source": [
    "# OR can use the code below to create variable count2 (which exactly the same as variable count):\n",
    "bins = [0, 2500, 6500, np.inf]\n",
    "labels = ['low', 'medium', 'high']\n",
    "bike['count2'] = pd.cut(bike.cnt, bins, labels=labels, right=True)\n",
    "# then can count the frequency of variable counts by:\n",
    "print(bike['count2'].value_counts())\n",
    "# count the frequency of variable count2 by order from low to high:\n",
    "print(bike['count2'].value_counts()[[1,0,2]] )\n"
   ]
  },
  {
   "cell_type": "code",
   "execution_count": 15,
   "metadata": {},
   "outputs": [
    {
     "name": "stdout",
     "output_type": "stream",
     "text": [
      "col_0  count\n",
      "row_0       \n",
      "high     141\n",
      "low      144\n",
      "med      446\n"
     ]
    }
   ],
   "source": [
    "# frequency table for variable count\n",
    "tab = pd.crosstab(index=count,columns=\"count\") \n",
    "print(tab)\n",
    "# 144 days have count = low\n",
    "# 141 days have count = high"
   ]
  },
  {
   "cell_type": "markdown",
   "metadata": {},
   "source": [
    "# Q8"
   ]
  },
  {
   "cell_type": "code",
   "execution_count": 16,
   "metadata": {},
   "outputs": [
    {
     "name": "stdout",
     "output_type": "stream",
     "text": [
      "col_0       high  low  med\n",
      "weathersit                \n",
      "1            115   70  278\n",
      "2             26   58  163\n",
      "3              0   16    5\n"
     ]
    }
   ],
   "source": [
    "# Q8: Then form a contingency table for two variables count and weathetsit\n",
    "tab2 = pd.crosstab(bike.weathersit,count) \n",
    "print(tab2)\n"
   ]
  },
  {
   "cell_type": "markdown",
   "metadata": {},
   "source": [
    "# Q9"
   ]
  },
  {
   "cell_type": "code",
   "execution_count": 17,
   "metadata": {},
   "outputs": [
    {
     "name": "stdout",
     "output_type": "stream",
     "text": [
      "null_mean   3986.6925837320573\n",
      "null_sd     11.666339535146724\n",
      "pvalue      5.3002475382272025e-11\n",
      "statistic   4063.25\n",
      "zscore      6.56224825595905\n"
     ]
    }
   ],
   "source": [
    "# Q9: Since both weathersit and count are ORDINAL categorical variables.\n",
    "# Should use linear-by-libear association test (name of the test)\n",
    "\n",
    "ct = sm.stats.Table(np.asarray(tab2))\n",
    "\n",
    "row_scores = np.asarray([3,2,1]) # scores for 3 rows of weather: good (1) has score = 3, not good (2) = 2, bad (3) = 1.\n",
    "\n",
    "col_scores = np.asarray([3.5,1,2]) # scores for 3 columns of count:  high = 3.5, low = 1, med = 2\n",
    "\n",
    "print(ct.test_ordinal_association(row_scores=row_scores, col_scores=col_scores))\n",
    "# p-value <0.0001\n",
    "# two variables are not independent.\n",
    "# the level of count and the weather condition are associated"
   ]
  },
  {
   "cell_type": "markdown",
   "metadata": {},
   "source": [
    "# Q10:  \n",
    "\n",
    "Should be either ANOVA or Kruskal-Wallis test"
   ]
  },
  {
   "cell_type": "code",
   "execution_count": 18,
   "metadata": {},
   "outputs": [
    {
     "name": "stdout",
     "output_type": "stream",
     "text": [
      "p-value of normality test for cnt in season 1 is:  4.983239705325104e-07\n",
      "p-value of normality test for cnt in season 2 is:  0.0079073840752244\n",
      "p-value of normality test for cnt in season 3 is:  7.678098336327821e-05\n",
      "p-value of normality test for cnt in season 4 is:  0.018196173012256622\n"
     ]
    }
   ],
   "source": [
    "# Check assumptions for ANOVA (normality by Shapiro Wilk test, sample size, equal variances)\n",
    "\n",
    "t1, p1 = scst.shapiro(bike.cnt[bike.season == 1])\n",
    "\n",
    "t2, p2 = scst.shapiro(bike.cnt[bike.season == 2])\n",
    "\n",
    "t3, p3 = scst.shapiro(bike.cnt[bike.season == 3])\n",
    "\n",
    "t4, p4 = scst.shapiro(bike.cnt[bike.season == 4])\n",
    "\n",
    "print('p-value of normality test for cnt in season 1 is: ',p1)\n",
    "\n",
    "print('p-value of normality test for cnt in season 2 is: ',p2)\n",
    "\n",
    "print('p-value of normality test for cnt in season 3 is: ',p3)\n",
    "\n",
    "print('p-value of normality test for cnt in season 4 is: ',p4)\n",
    "\n",
    "# all p-values are < 0.05.\n",
    "# hence 4 samples might not come from normal.\n"
   ]
  },
  {
   "cell_type": "code",
   "execution_count": 19,
   "metadata": {},
   "outputs": [
    {
     "name": "stdout",
     "output_type": "stream",
     "text": [
      "sample size of season 1 is:  181\n",
      "sample size of season 2 is:  184\n",
      "sample size of season 3 is:  188\n",
      "sample size of season 4 is:  178\n"
     ]
    }
   ],
   "source": [
    "# Q10: Check the sample size of 4 samples:\n",
    "print('sample size of season 1 is: ', len(bike.cnt[bike.season == 1]))\n",
    "\n",
    "print('sample size of season 2 is: ', len(bike.cnt[bike.season == 2]))\n",
    "\n",
    "print('sample size of season 3 is: ', len(bike.cnt[bike.season == 3]))\n",
    "\n",
    "print('sample size of season 4 is: ', len(bike.cnt[bike.season == 4]))\n",
    "\n",
    "# all 4 samples are having large size."
   ]
  },
  {
   "cell_type": "code",
   "execution_count": 20,
   "metadata": {},
   "outputs": [
    {
     "name": "stdout",
     "output_type": "stream",
     "text": [
      "p-value of Levene test is:  0.02138537590462272\n"
     ]
    }
   ],
   "source": [
    "# Q10: check equality of variances, using Levene test because all 4 samples are NOT normal\n",
    "\n",
    "Levene2, p = scipy.stats.levene(bike.cnt[bike.season == 1], bike.cnt[bike.season == 2], bike.cnt[bike.season == 3], bike.cnt[bike.season == 4])\n",
    "print('p-value of Levene test is: ',p)\n",
    "# p-value = 0.0214. Suggests NONequal variances\n",
    "#one might choose ANOVA, since sample size are big.\n",
    "# others might choose NONPARAMETRIC test (Kruskal-Wallis)"
   ]
  },
  {
   "cell_type": "code",
   "execution_count": null,
   "metadata": {},
   "outputs": [],
   "source": []
  },
  {
   "cell_type": "code",
   "execution_count": 21,
   "metadata": {},
   "outputs": [
    {
     "name": "stdout",
     "output_type": "stream",
     "text": [
      "             df        sum_sq       mean_sq           F        PR(>F)\n",
      "season      3.0  9.505959e+08  3.168653e+08  128.769622  6.720391e-67\n",
      "Residual  727.0  1.788940e+09  2.460715e+06         NaN           NaN\n"
     ]
    }
   ],
   "source": [
    "###############    ANOVA \n",
    "bike['season'] = bike['season'].astype('category') \n",
    "mod = ols('cnt ~ season', data=bike).fit()\n",
    "anova = sm.stats.anova_lm(mod, typ=1)\n",
    "print(anova)\n",
    "# p-value = 6.720391e-67\n",
    "# hence the 4 season are having UNEQUAL average count"
   ]
  },
  {
   "cell_type": "code",
   "execution_count": 22,
   "metadata": {},
   "outputs": [
    {
     "name": "stdout",
     "output_type": "stream",
     "text": [
      "KruskalResult(statistic=250.9335046488973, pvalue=4.110755793069794e-54)\n"
     ]
    }
   ],
   "source": [
    "####  KRUSKALL-WALLIS TEST\n",
    "from scipy.stats import kruskal\n",
    "kruskal = scipy.stats.kruskal(bike.cnt[bike.season == 1], bike.cnt[bike.season == 2], bike.cnt[bike.season == 3], bike.cnt[bike.season == 4])\n",
    "\n",
    "print(kruskal)\n",
    "# p-value = 4.110755793069794e-54\n",
    "# the rental count of 4 seasons are not from the same distribution."
   ]
  },
  {
   "cell_type": "code",
   "execution_count": null,
   "metadata": {},
   "outputs": [],
   "source": []
  }
 ],
 "metadata": {
  "kernelspec": {
   "display_name": "Python 3",
   "language": "python",
   "name": "python3"
  },
  "language_info": {
   "codemirror_mode": {
    "name": "ipython",
    "version": 3
   },
   "file_extension": ".py",
   "mimetype": "text/x-python",
   "name": "python",
   "nbconvert_exporter": "python",
   "pygments_lexer": "ipython3",
   "version": "3.7.6"
  }
 },
 "nbformat": 4,
 "nbformat_minor": 4
}
