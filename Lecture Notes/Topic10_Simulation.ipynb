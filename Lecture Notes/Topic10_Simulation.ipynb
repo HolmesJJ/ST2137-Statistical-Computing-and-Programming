{
 "cells": [
  {
   "cell_type": "code",
   "execution_count": 1,
   "metadata": {},
   "outputs": [],
   "source": [
    "import numpy as np\n",
    "import pandas as pd\n",
    "import statistics as st\n",
    "from statistics import mean\n",
    "from statistics import median\n",
    "from statistics import variance\n",
    "from statistics import stdev\n",
    "\n",
    "import scipy.stats as scst\n",
    "import matplotlib.pyplot as plt\n",
    "\n"
   ]
  },
  {
   "cell_type": "code",
   "execution_count": 2,
   "metadata": {},
   "outputs": [],
   "source": [
    "np.random.seed(1)"
   ]
  },
  {
   "cell_type": "markdown",
   "metadata": {},
   "source": [
    "# Uniform"
   ]
  },
  {
   "cell_type": "code",
   "execution_count": 3,
   "metadata": {},
   "outputs": [
    {
     "name": "stdout",
     "output_type": "stream",
     "text": [
      "[4.17022005e-01 7.20324493e-01 1.14374817e-04 3.02332573e-01\n",
      " 1.46755891e-01 9.23385948e-02]\n"
     ]
    }
   ],
   "source": [
    "#generating random numbers follows U(0,1)\n",
    "x = np.random.uniform(0,1,6) # 6 numbers follow uni(0,1)\n",
    "#check: https://docs.scipy.org/doc/numpy-1.14.0/reference/routines.random.html\n",
    "\n",
    "print(x)"
   ]
  },
  {
   "cell_type": "markdown",
   "metadata": {},
   "source": [
    "# Exponential"
   ]
  },
  {
   "cell_type": "code",
   "execution_count": 4,
   "metadata": {},
   "outputs": [
    {
     "name": "stdout",
     "output_type": "stream",
     "text": [
      "[0.04122293 0.0847953  0.10109051 0.15479195 0.10866787 0.23117594\n",
      " 0.04574488 0.42093946 0.00555392 0.22201607]\n"
     ]
    }
   ],
   "source": [
    "#generating random numbers follow Exp(5)\n",
    "import numpy as np\n",
    "n = 10\n",
    "x = np.random.exponential(1/5, n)\n",
    "print(x)"
   ]
  },
  {
   "cell_type": "code",
   "execution_count": 5,
   "metadata": {},
   "outputs": [
    {
     "name": "stdout",
     "output_type": "stream",
     "text": [
      "[0.85726826 0.95101923 0.6236491  0.68546708 1.12698953 1.36289351\n",
      " 0.78308357 1.04196023 1.20245441 1.22475247]\n"
     ]
    }
   ],
   "source": [
    "#generating random numbers follow Weibull distribution with shape = 4.\n",
    "import numpy as np\n",
    "x = np.random.weibull(4, 10)\n",
    "print(x)"
   ]
  },
  {
   "cell_type": "markdown",
   "metadata": {},
   "source": [
    "# Normal"
   ]
  },
  {
   "cell_type": "code",
   "execution_count": 6,
   "metadata": {},
   "outputs": [
    {
     "name": "stdout",
     "output_type": "stream",
     "text": [
      "[4.74135769 3.68321237 5.06332062 5.87422282 3.34907123 6.71708556\n",
      " 6.35238608 5.75374151 6.35128392 3.97440821]\n"
     ]
    }
   ],
   "source": [
    "#generating random numbers follow Norm(5, 1.5)\n",
    "import numpy as np\n",
    "n = 10\n",
    "mu = 5\n",
    "sigma = 1.5\n",
    "x = np.random.normal(loc = mu, scale = sigma, size = n)\n",
    "print(x)"
   ]
  },
  {
   "cell_type": "code",
   "execution_count": 7,
   "metadata": {},
   "outputs": [
    {
     "name": "stdout",
     "output_type": "stream",
     "text": [
      "[2.07780083 0.83942138 1.1354131  1.57690693 1.14142175 0.94232126\n",
      " 0.6562656  2.87724632 1.94297095 0.89313151]\n"
     ]
    }
   ],
   "source": [
    "#generating random numbers follow Chi-square distribution\n",
    "import numpy as np\n",
    "x = np.random.chisquare(df = 3, size = 10)\n",
    "print(x)"
   ]
  },
  {
   "cell_type": "code",
   "execution_count": 8,
   "metadata": {},
   "outputs": [
    {
     "name": "stdout",
     "output_type": "stream",
     "text": [
      "[23 30 32 30 37 31 36 25 25 34]\n"
     ]
    }
   ],
   "source": [
    "#generating random numbers follow Binomial distribution\n",
    "import numpy as np\n",
    "x = np.random.binomial(n = 100, p = 0.3, size = 10)\n",
    "print(x)"
   ]
  },
  {
   "cell_type": "code",
   "execution_count": 9,
   "metadata": {},
   "outputs": [
    {
     "name": "stdout",
     "output_type": "stream",
     "text": [
      "[3 6 5 4 2 4 2 4 2 4]\n"
     ]
    }
   ],
   "source": [
    "#generating random numbers follow Poisson distribution\n",
    "import numpy as np\n",
    "x = np.random.poisson(lam = 3, size = 10)\n",
    "print(x)"
   ]
  },
  {
   "cell_type": "markdown",
   "metadata": {},
   "source": [
    "# SIMULATION: COMPARE 3 ESTIMATORS OF MEAN"
   ]
  },
  {
   "cell_type": "code",
   "execution_count": 10,
   "metadata": {},
   "outputs": [],
   "source": [
    "\n",
    "# GENERATING DATA\n",
    "M = 10000\n",
    "n = 20\n",
    "mu = 170\n",
    "sd = 10\n",
    "meanx = np.arange(M) # A vector of all sample means\n",
    "medx = np.arange(M) # A vector of all sample medians\n",
    "trmx = np.arange(M) # A vector of all sample 10% trimmed means\n",
    "stdx = np.arange(M) # A vector of all sample standard deviations\n",
    "np.random.seed(10)\n",
    "\n",
    "\n",
    "for i in range(M):\n",
    "    x = np.random.normal(loc = mu, scale = sd, size = n) # Generate a random sample of size n\n",
    "    meanx[i] = mean(x) # Compute the mean of the i-th sample: T^1_i\n",
    "    medx[i] = median(x) # Compute the median of the i-th sample: T^2_i\n",
    "    trmx[i] = scst.trim_mean(x, 0.1) # Compute the 10% trimmed mean for the i-th sample, i.e. T^3_i\n",
    "    stdx[i] <- stdev(x) # Compute the standard deviation for the i-th sample.\n",
    "\n",
    "stat = np.asmatrix([meanx,medx,trmx])\n",
    "stat = pd.DataFrame(stat) # sample mean at first, median second; trimmed mean at third."
   ]
  },
  {
   "cell_type": "code",
   "execution_count": 11,
   "metadata": {},
   "outputs": [],
   "source": [
    "# Compute mean of M sample means, medians, and trimmed means\n",
    "simumean = stat.apply(np.mean, axis = 1)\n"
   ]
  },
  {
   "cell_type": "code",
   "execution_count": 12,
   "metadata": {},
   "outputs": [
    {
     "name": "stdout",
     "output_type": "stream",
     "text": [
      "0    2.240482\n",
      "1    2.714553\n",
      "2    2.297729\n",
      "dtype: float64\n"
     ]
    }
   ],
   "source": [
    "# Compute sd of the M sample means, medians and 10% trimmed means\n",
    "simustd = stat.apply(np.std, axis = 1)\n",
    "print(simustd)"
   ]
  },
  {
   "cell_type": "code",
   "execution_count": 13,
   "metadata": {},
   "outputs": [
    {
     "name": "stdout",
     "output_type": "stream",
     "text": [
      "0   -0.5210\n",
      "1   -0.4986\n",
      "2   -0.5253\n",
      "dtype: float64\n"
     ]
    }
   ],
   "source": [
    "#Compute the bias\n",
    "realmu = np.empty(3); realmu.fill(mu)  # a vector of 3 values of mu = 170\n",
    "simubias = simumean - realmu \n",
    "print(simubias)"
   ]
  },
  {
   "cell_type": "code",
   "execution_count": 15,
   "metadata": {},
   "outputs": [
    {
     "name": "stdout",
     "output_type": "stream",
     "text": [
      "0    5.2912\n",
      "1    7.6174\n",
      "2    5.5555\n",
      "dtype: float64\n"
     ]
    }
   ],
   "source": [
    "# Compute the MSE (Mean Square Error)\n",
    "simumse = simubias**2 + simustd**2 \n",
    "print(simumse)\n",
    "# MSE of sample mean is smallest (first)\n",
    "# MSE of sample median is largest (second)"
   ]
  },
  {
   "cell_type": "code",
   "execution_count": null,
   "metadata": {},
   "outputs": [],
   "source": []
  }
 ],
 "metadata": {
  "kernelspec": {
   "display_name": "Python 3",
   "language": "python",
   "name": "python3"
  },
  "language_info": {
   "codemirror_mode": {
    "name": "ipython",
    "version": 3
   },
   "file_extension": ".py",
   "mimetype": "text/x-python",
   "name": "python",
   "nbconvert_exporter": "python",
   "pygments_lexer": "ipython3",
   "version": "3.7.6"
  }
 },
 "nbformat": 4,
 "nbformat_minor": 4
}
