{
 "cells": [
  {
   "cell_type": "code",
   "execution_count": 1,
   "metadata": {},
   "outputs": [
    {
     "data": {
      "text/plain": [
       "Ttest_1sampResult(statistic=-1.2487860392703891, pvalue=0.2180614156412892)"
      ]
     },
     "execution_count": 1,
     "metadata": {},
     "output_type": "execute_result"
    }
   ],
   "source": [
    "import pandas as pd\n",
    "import numpy as np\n",
    "import scipy\n",
    "import statistics as st\n",
    "from statistics import mean\n",
    "from statistics import median\n",
    "from statistics import variance\n",
    "from scipy import stats\n",
    "import math\n",
    "\n",
    "data = pd.read_csv (r\"C:\\Data\\babyweights.csv\")\n",
    "weight = data['weight']\n",
    "\n",
    "#one sample t-test:\n",
    "stats.ttest_1samp(weight, popmean=3.3)"
   ]
  },
  {
   "cell_type": "code",
   "execution_count": 2,
   "metadata": {},
   "outputs": [
    {
     "name": "stdout",
     "output_type": "stream",
     "text": [
      "-1.2487860392703891\n",
      "0.2180614156412892\n"
     ]
    }
   ],
   "source": [
    "# 1-sample t-test:\n",
    "t, p = stats.ttest_1samp(weight, popmean=3.3)\n",
    "print(\"test statistic: \",t)\n",
    "print(\"p-value: \",p)"
   ]
  },
  {
   "cell_type": "code",
   "execution_count": null,
   "metadata": {},
   "outputs": [],
   "source": []
  },
  {
   "cell_type": "code",
   "execution_count": 5,
   "metadata": {},
   "outputs": [
    {
     "data": {
      "text/plain": [
       "WilcoxonResult(statistic=475.0, pvalue=0.17446538059364408)"
      ]
     },
     "execution_count": 5,
     "metadata": {},
     "output_type": "execute_result"
    }
   ],
   "source": [
    "#Wilcoxon Signed Rank test:\n",
    "m0 = 3.3\n",
    "scipy.stats.wilcoxon(x = weight-m0, y=None, zero_method='wilcox', correction=True, alternative='less') #can change True to False"
   ]
  },
  {
   "cell_type": "code",
   "execution_count": 2,
   "metadata": {},
   "outputs": [],
   "source": [
    "data = pd.read_csv (r\"C:/Data/protein_and_weight_gain.csv\")\n",
    "data = pd.DataFrame(data)"
   ]
  },
  {
   "cell_type": "code",
   "execution_count": 3,
   "metadata": {},
   "outputs": [],
   "source": [
    "# extracting the weight gain for the \"low\" and \"high\":\n",
    "high_data = data[(data['level'] ==\"high\")]\n",
    "x = high_data[\"weight_gain\"]\n",
    "\n",
    "low_data = data[(data['level'] ==\"low\")]\n",
    "y = low_data[\"weight_gain\"]"
   ]
  },
  {
   "cell_type": "code",
   "execution_count": 61,
   "metadata": {},
   "outputs": [
    {
     "data": {
      "text/plain": [
       "BartlettResult(statistic=0.0032784285184831435, pvalue=0.9543400246981172)"
      ]
     },
     "execution_count": 61,
     "metadata": {},
     "output_type": "execute_result"
    }
   ],
   "source": [
    "#Bartlett test to test if variances are equal \n",
    "scipy.stats.bartlett(x,y)  "
   ]
  },
  {
   "cell_type": "code",
   "execution_count": 62,
   "metadata": {},
   "outputs": [
    {
     "data": {
      "text/plain": [
       "Ttest_indResult(statistic=3.7552732458950753, pvalue=0.00040332283036763155)"
      ]
     },
     "execution_count": 62,
     "metadata": {},
     "output_type": "execute_result"
    }
   ],
   "source": [
    "#2 independent samples t-test:\n",
    "scipy.stats.ttest_ind(x, y, axis=0, equal_var=True) # 2 samples t test"
   ]
  },
  {
   "cell_type": "code",
   "execution_count": 5,
   "metadata": {},
   "outputs": [
    {
     "name": "stdout",
     "output_type": "stream",
     "text": [
      "Test statistic =  3.7552732458950753\n",
      "p-value is  0.00040335690193069414\n",
      "degree of freedom  57.99333124405551\n"
     ]
    }
   ],
   "source": [
    "#2 independent samples t-test (by another module)\n",
    "import statsmodels.api\n",
    "teststatistic, p, df = statsmodels.stats.weightstats.ttest_ind(x, y, alternative='two-sided', usevar='unequal', value=0)\n",
    "print('Test statistic = ', teststatistic) # report the test statistic only\n",
    "\n",
    "print('p-value is ',p)\n",
    "print('degree of freedom ', df)\n",
    "\n",
    "# alternative can be: two-sided, smaller, larger\n",
    "# usevar = \"pooled\" for equal variance; \"unequal\" for unequal variance.\n",
    "# value = 0 means \"mean(x) - mean(y) = 0\""
   ]
  },
  {
   "cell_type": "code",
   "execution_count": null,
   "metadata": {},
   "outputs": [],
   "source": []
  },
  {
   "cell_type": "code",
   "execution_count": 6,
   "metadata": {},
   "outputs": [
    {
     "data": {
      "text/plain": [
       "MannwhitneyuResult(statistic=682.5, pvalue=0.0006001197120465819)"
      ]
     },
     "execution_count": 6,
     "metadata": {},
     "output_type": "execute_result"
    }
   ],
   "source": [
    "#ManWhitney U test =  Wilcoxon Rank Sum Test: \n",
    "scipy.stats.mannwhitneyu(x, y, use_continuity=True, alternative='two-sided')"
   ]
  },
  {
   "cell_type": "code",
   "execution_count": 10,
   "metadata": {},
   "outputs": [],
   "source": [
    "before = np.array([25, 25,27, 44,30,67, 53, 53,52, 60, 28])\n",
    "after = np.array([27, 29, 37, 56, 46, 82, 57, 80,61,59,43])"
   ]
  },
  {
   "cell_type": "code",
   "execution_count": 12,
   "metadata": {},
   "outputs": [
    {
     "data": {
      "text/plain": [
       "Ttest_relResult(statistic=4.271608818429545, pvalue=0.0016328499219996722)"
      ]
     },
     "execution_count": 12,
     "metadata": {},
     "output_type": "execute_result"
    }
   ],
   "source": [
    "#paired t-test\n",
    "scipy.stats.ttest_rel(after,before, axis=0, nan_policy='propagate')"
   ]
  },
  {
   "cell_type": "code",
   "execution_count": 2,
   "metadata": {},
   "outputs": [
    {
     "data": {
      "text/plain": [
       "array([ 2,  4, -2, -1,  4,  5,  3,  1])"
      ]
     },
     "execution_count": 2,
     "metadata": {},
     "output_type": "execute_result"
    }
   ],
   "source": [
    "drugA = np.array([20, 40, 30, 45, 19, 27, 32, 26])\n",
    "drugB = np.array([18, 36, 32, 46, 15, 22, 29, 25])\n",
    "diff = drugA - drugB\n",
    "print(diff)"
   ]
  },
  {
   "cell_type": "code",
   "execution_count": 7,
   "metadata": {},
   "outputs": [
    {
     "data": {
      "text/plain": [
       "WilcoxonResult(statistic=5.0, pvalue=0.07894833771600107)"
      ]
     },
     "execution_count": 7,
     "metadata": {},
     "output_type": "execute_result"
    }
   ],
   "source": [
    "#Wilcoxon Signed Rank test for diff:\n",
    "scipy.stats.wilcoxon(x = diff, zero_method='wilcox', correction=True, alternative='two-sided')"
   ]
  },
  {
   "cell_type": "code",
   "execution_count": null,
   "metadata": {},
   "outputs": [],
   "source": []
  }
 ],
 "metadata": {
  "kernelspec": {
   "display_name": "Python 3",
   "language": "python",
   "name": "python3"
  },
  "language_info": {
   "codemirror_mode": {
    "name": "ipython",
    "version": 3
   },
   "file_extension": ".py",
   "mimetype": "text/x-python",
   "name": "python",
   "nbconvert_exporter": "python",
   "pygments_lexer": "ipython3",
   "version": "3.7.3"
  }
 },
 "nbformat": 4,
 "nbformat_minor": 4
}
