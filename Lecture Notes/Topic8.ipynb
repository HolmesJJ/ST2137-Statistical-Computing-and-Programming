{
 "cells": [
  {
   "cell_type": "code",
   "execution_count": 1,
   "metadata": {},
   "outputs": [],
   "source": [
    "import pandas as pd\n",
    "import numpy as np\n",
    "import scipy\n",
    "import statistics as st\n",
    "from statistics import mean\n",
    "from statistics import median\n",
    "from statistics import variance\n",
    "from scipy import stats\n",
    "from scipy.stats import mstats\n",
    "import math\n",
    "import statsmodels.api as sm \n",
    "from statsmodels.formula.api import ols\n",
    "\n"
   ]
  },
  {
   "cell_type": "code",
   "execution_count": 2,
   "metadata": {
    "scrolled": true
   },
   "outputs": [
    {
     "name": "stdout",
     "output_type": "stream",
     "text": [
      "   'Lab1'  ''Lab2\"'  'Lab3'  'Lab4'  'Lab5'  'Lab6'  'Lab7'\n",
      "0    4.13      3.86    4.00    3.88    4.02    4.02    4.00\n",
      "1    4.07      3.85    4.02    3.88    3.95    3.86    4.02\n",
      "2    4.04      4.08    4.01    3.91    4.02    3.96    4.03\n",
      "3    4.07      4.11    4.01    3.95    3.89    3.97    4.04\n",
      "4    4.05      4.08    4.04    3.92    3.91    4.00    4.10\n",
      "5    4.04      4.01    3.99    3.97    4.01    3.82    3.81\n",
      "6    4.02      4.02    4.03    3.92    3.89    3.98    3.91\n",
      "7    4.06      4.04    3.97    3.90    3.89    3.99    3.96\n",
      "8    4.10      3.97    3.98    3.97    3.99    4.02    4.05\n",
      "9    4.04      3.95    3.98    3.90    4.00    3.93    4.06\n"
     ]
    }
   ],
   "source": [
    "data = pd.read_csv (r\"C:\\Data\\tablets1.txt\")\n",
    "print(data)"
   ]
  },
  {
   "cell_type": "code",
   "execution_count": 3,
   "metadata": {},
   "outputs": [
    {
     "name": "stdout",
     "output_type": "stream",
     "text": [
      "   lab1  lab2  lab3  lab4  lab5  lab6  lab7\n",
      "0  4.13  3.86  4.00  3.88  4.02  4.02  4.00\n",
      "1  4.07  3.85  4.02  3.88  3.95  3.86  4.02\n",
      "2  4.04  4.08  4.01  3.91  4.02  3.96  4.03\n",
      "3  4.07  4.11  4.01  3.95  3.89  3.97  4.04\n",
      "4  4.05  4.08  4.04  3.92  3.91  4.00  4.10\n",
      "5  4.04  4.01  3.99  3.97  4.01  3.82  3.81\n",
      "6  4.02  4.02  4.03  3.92  3.89  3.98  3.91\n",
      "7  4.06  4.04  3.97  3.90  3.89  3.99  3.96\n",
      "8  4.10  3.97  3.98  3.97  3.99  4.02  4.05\n",
      "9  4.04  3.95  3.98  3.90  4.00  3.93  4.06\n"
     ]
    }
   ],
   "source": [
    "data.columns = ['lab1', 'lab2','lab3','lab4','lab5','lab6','lab7'] # \n",
    "print (data)"
   ]
  },
  {
   "cell_type": "code",
   "execution_count": 4,
   "metadata": {},
   "outputs": [
    {
     "name": "stdout",
     "output_type": "stream",
     "text": [
      "[1 1 1 1 1 1 1 1 1 1 2 2 2 2 2 2 2 2 2 2 3 3 3 3 3 3 3 3 3 3 4 4 4 4 4 4 4\n",
      " 4 4 4 5 5 5 5 5 5 5 5 5 5 6 6 6 6 6 6 6 6 6 6 7 7 7 7 7 7 7 7 7 7]\n"
     ]
    }
   ],
   "source": [
    "lab1=  data['lab1']\n",
    "lab2 = data['lab2']\n",
    "lab3 = data['lab3']\n",
    "lab4 = data['lab4']\n",
    "lab5 = data['lab5']\n",
    "lab6 = data['lab6']\n",
    "lab7 = data['lab7']\n",
    "\n",
    "amount = pd.concat([lab1, lab2, lab3, lab4, lab5, lab6, lab7])\n",
    "\n",
    "x = range(1,8,1)\n",
    "lab = np.repeat(x, [10, 10,10,10,10,10,10], axis=0)\n",
    "print(lab)\n",
    "\n"
   ]
  },
  {
   "cell_type": "code",
   "execution_count": 5,
   "metadata": {},
   "outputs": [
    {
     "name": "stdout",
     "output_type": "stream",
     "text": [
      "    amount  lab\n",
      "0     4.13  1.0\n",
      "1     4.07  1.0\n",
      "2     4.04  1.0\n",
      "3     4.07  1.0\n",
      "4     4.05  1.0\n",
      "..     ...  ...\n",
      "65    3.81  7.0\n",
      "66    3.91  7.0\n",
      "67    3.96  7.0\n",
      "68    4.05  7.0\n",
      "69    4.06  7.0\n",
      "\n",
      "[70 rows x 2 columns]\n"
     ]
    }
   ],
   "source": [
    "y = np.column_stack((amount, lab)) \n",
    "#print(y)\n",
    "\n",
    "newdata = pd.DataFrame(y, columns = ['amount', 'lab'])\n",
    "print(newdata)\n",
    "\n",
    "newdata['lab'] = newdata['lab'].astype('category') \n",
    "# this is to declare with Python that column \"lab\" in the dataframe \"newdata\" is a factor"
   ]
  },
  {
   "cell_type": "code",
   "execution_count": 7,
   "metadata": {},
   "outputs": [
    {
     "name": "stdout",
     "output_type": "stream",
     "text": [
      "            df    sum_sq   mean_sq         F    PR(>F)\n",
      "lab        6.0  0.124737  0.020790  5.660069  0.000095\n",
      "Residual  63.0  0.231400  0.003673       NaN       NaN\n"
     ]
    }
   ],
   "source": [
    "###############    ANOVA \n",
    "import statsmodels.api as sm \n",
    "from statsmodels.formula.api import ols\n",
    "\n",
    "mod = ols('amount ~ lab', data=newdata).fit()\n",
    "anova = sm.stats.anova_lm(mod, typ=1) # typ could be 1, 2 or 3. \n",
    "print(anova)\n"
   ]
  },
  {
   "cell_type": "code",
   "execution_count": 16,
   "metadata": {},
   "outputs": [
    {
     "name": "stdout",
     "output_type": "stream",
     "text": [
      "F_onewayResult(statistic=5.66006914433881, pvalue=9.452826448501141e-05)\n"
     ]
    }
   ],
   "source": [
    "###############    ANOTHER WAY TO GET ANOVA \n",
    "anova2 = scipy.stats.f_oneway(lab1, lab2, lab3, lab4, lab5, lab6, lab7)\n",
    "print(anova2)\n",
    "# this is equivalent to the above but less information"
   ]
  },
  {
   "cell_type": "code",
   "execution_count": null,
   "metadata": {},
   "outputs": [],
   "source": []
  },
  {
   "cell_type": "code",
   "execution_count": 17,
   "metadata": {},
   "outputs": [
    {
     "name": "stdout",
     "output_type": "stream",
     "text": [
      "KruskalResult(statistic=29.605984376371413, pvalue=4.6701021928163535e-05)\n"
     ]
    }
   ],
   "source": [
    "####  KRUSKALL-WALLIS TEST\n",
    "from scipy.stats import kruskal\n",
    "kruskal = scipy.stats.kruskal(lab1, lab2, lab3, lab4, lab5, lab6, lab7)\n",
    "\n",
    "print(kruskal)\n"
   ]
  },
  {
   "cell_type": "code",
   "execution_count": 20,
   "metadata": {},
   "outputs": [
    {
     "name": "stdout",
     "output_type": "stream",
     "text": [
      "Test Multiple Comparison ttest_ind \n",
      "FWER=0.10 method=bonf\n",
      "alphacSidak=0.01, alphacBonf=0.005\n",
      "=============================================\n",
      "group1 group2   stat   pval  pval_corr reject\n",
      "---------------------------------------------\n",
      "   1.0    2.0  2.1538 0.0451    0.9462  False\n",
      "   1.0    3.0  4.6692 0.0002     0.004   True\n",
      "   1.0    4.0  9.6322    0.0       0.0   True\n",
      "   1.0    5.0   5.046 0.0001    0.0018   True\n",
      "   1.0    6.0  4.5392 0.0003    0.0053   True\n",
      "   1.0    7.0  2.2271 0.0389    0.8177  False\n",
      "   2.0    3.0 -0.2048   0.84       1.0  False\n",
      "   2.0    4.0  2.5446 0.0203    0.4269  False\n",
      "   2.0    5.0  1.1892 0.2498       1.0  False\n",
      "   2.0    6.0   1.186  0.251       1.0  False\n",
      "   2.0    7.0 -0.0256 0.9798       1.0  False\n",
      "   3.0    4.0  6.4703    0.0    0.0001   True\n",
      "   3.0    5.0  2.3591 0.0298    0.6263  False\n",
      "   3.0    6.0  2.1405 0.0463    0.9715  False\n",
      "   3.0    7.0  0.1798 0.8593       1.0  False\n",
      "   4.0    5.0 -1.7682  0.094       1.0  False\n",
      "   4.0    6.0 -1.4783 0.1566       1.0  False\n",
      "   4.0    7.0 -2.7063 0.0145    0.3036  False\n",
      "   5.0    6.0  0.0718 0.9436       1.0  False\n",
      "   5.0    7.0 -1.2675 0.2211       1.0  False\n",
      "   6.0    7.0 -1.2577 0.2246       1.0  False\n",
      "---------------------------------------------\n"
     ]
    }
   ],
   "source": [
    "##########  BONFERRONI TEST (each pair is compared by a 2-independent sample t-test)\n",
    "import statsmodels.stats.multicomp as mc\n",
    "\n",
    "comparison = mc.MultiComparison(newdata['amount'], newdata['lab'])\n",
    "result, tbl1, tbl2 = comparison.allpairtest(stats.ttest_ind, method= \"bonf\", alpha = 0.1) # alpha = 0.05 is the default\n",
    "\n",
    "print(result)\n",
    "# Bonf = comparison.allpairtest(stats.ttest_ind, method= \"bonf\")\n",
    "# the 2-independent sample t-test for each pair is conducted with equal variances."
   ]
  },
  {
   "cell_type": "code",
   "execution_count": 28,
   "metadata": {},
   "outputs": [
    {
     "name": "stdout",
     "output_type": "stream",
     "text": [
      "test statitsics is:  2.153808783913392\n",
      "p-value is:  0.04505639785202304\n"
     ]
    }
   ],
   "source": [
    "t, p = stats.ttest_ind(lab1,lab2) # by default, equal variance and 2 sided test is used\n",
    "print('test statitsics is: ',t) \n",
    "print('p-value is: ',p)\n",
    "# print( stats.ttest_ind(lab1,lab2) )"
   ]
  },
  {
   "cell_type": "code",
   "execution_count": 29,
   "metadata": {},
   "outputs": [
    {
     "data": {
      "text/plain": [
       "(2.153808783913392, 0.04505639785202304, 18.0)"
      ]
     },
     "execution_count": 29,
     "metadata": {},
     "output_type": "execute_result"
    }
   ],
   "source": [
    "import statsmodels.api\n",
    "statsmodels.stats.weightstats.ttest_ind(lab1, lab2, alternative='two-sided', usevar='pooled', value=0)\n",
    "# usevar = ‘pooled’ or ‘unequal’\n",
    "# link:  https://www.statsmodels.org/dev/generated/statsmodels.stats.weightstats.ttest_ind.html"
   ]
  },
  {
   "cell_type": "code",
   "execution_count": 14,
   "metadata": {},
   "outputs": [
    {
     "name": "stdout",
     "output_type": "stream",
     "text": [
      "Test Multiple Comparison mannwhitneyu \n",
      "FWER=0.05 method=bonf\n",
      "alphacSidak=0.00, alphacBonf=0.002\n",
      "==========================================\n",
      "group1 group2 stat  pval  pval_corr reject\n",
      "------------------------------------------\n",
      "   1.0    2.0 28.0 0.0512       1.0  False\n",
      "   1.0    3.0  4.0 0.0003    0.0057   True\n",
      "   1.0    4.0  0.0 0.0001    0.0018   True\n",
      "   1.0    5.0  1.0 0.0001    0.0024   True\n",
      "   1.0    6.0  1.0 0.0001    0.0025   True\n",
      "   1.0    7.0 22.5 0.0201    0.4212  False\n",
      "   2.0    3.0 46.5   0.41       1.0  False\n",
      "   2.0    4.0 23.5 0.0243    0.5103  False\n",
      "   2.0    5.0 34.0 0.1197       1.0  False\n",
      "   2.0    6.0 33.0 0.1055       1.0  False\n",
      "   2.0    7.0 50.0 0.4849       1.0  False\n",
      "   3.0    4.0  1.0 0.0001    0.0025   True\n",
      "   3.0    5.0 29.0 0.0596       1.0  False\n",
      "   3.0    6.0 25.5 0.0342     0.718  False\n",
      "   3.0    7.0 40.0 0.2358       1.0  False\n",
      "   4.0    5.0 32.0  0.092       1.0  False\n",
      "   4.0    6.0 26.0 0.0374    0.7852  False\n",
      "   4.0    7.0 17.5 0.0077    0.1614  False\n",
      "   5.0    6.0 49.0 0.4848       1.0  False\n",
      "   5.0    7.0 26.0 0.0373    0.7829  False\n",
      "   6.0    7.0 28.0 0.0517       1.0  False\n",
      "------------------------------------------\n"
     ]
    }
   ],
   "source": [
    "##########  BONFERRONI TEST (each paired is compared by a Mann_Whitney U test)\n",
    "comparison = mc.MultiComparison(newdata['amount'], newdata['lab'])\n",
    "result, tbl1, tbl2 = comparison.allpairtest(stats.mannwhitneyu, method= \"bonf\") # alpha = 0.05 is the default\n",
    "print(result)"
   ]
  },
  {
   "cell_type": "code",
   "execution_count": null,
   "metadata": {},
   "outputs": [],
   "source": []
  },
  {
   "cell_type": "code",
   "execution_count": 12,
   "metadata": {},
   "outputs": [
    {
     "name": "stdout",
     "output_type": "stream",
     "text": [
      "Multiple Comparison of Means - Tukey HSD, FWER=0.10 \n",
      "====================================================\n",
      "group1 group2 meandiff p-adj   lower   upper  reject\n",
      "----------------------------------------------------\n",
      "   1.0    2.0   -0.065 0.2166 -0.1399  0.0099  False\n",
      "   1.0    3.0   -0.059 0.3225 -0.1339  0.0159  False\n",
      "   1.0    4.0   -0.142  0.001 -0.2169 -0.0671   True\n",
      "   1.0    5.0   -0.105 0.0046 -0.1799 -0.0301   True\n",
      "   1.0    6.0   -0.107 0.0036 -0.1819 -0.0321   True\n",
      "   1.0    7.0   -0.064 0.2324 -0.1389  0.0109  False\n",
      "   2.0    3.0    0.006    0.9 -0.0689  0.0809  False\n",
      "   2.0    4.0   -0.077 0.0833 -0.1519 -0.0021   True\n",
      "   2.0    5.0    -0.04 0.7317 -0.1149  0.0349  False\n",
      "   2.0    6.0   -0.042 0.6894 -0.1169  0.0329  False\n",
      "   2.0    7.0    0.001    0.9 -0.0739  0.0759  False\n",
      "   3.0    4.0   -0.083 0.0479 -0.1579 -0.0081   True\n",
      "   3.0    5.0   -0.046 0.6049 -0.1209  0.0289  False\n",
      "   3.0    6.0   -0.048 0.5627 -0.1229  0.0269  False\n",
      "   3.0    7.0   -0.005    0.9 -0.0799  0.0699  False\n",
      "   4.0    5.0    0.037  0.795 -0.0379  0.1119  False\n",
      "   4.0    6.0    0.035 0.8373 -0.0399  0.1099  False\n",
      "   4.0    7.0    0.078 0.0762  0.0031  0.1529   True\n",
      "   5.0    6.0   -0.002    0.9 -0.0769  0.0729  False\n",
      "   5.0    7.0    0.041 0.7105 -0.0339  0.1159  False\n",
      "   6.0    7.0    0.043 0.6683 -0.0319  0.1179  False\n",
      "----------------------------------------------------\n"
     ]
    }
   ],
   "source": [
    "##########  TUKEY  TEST:\n",
    "\n",
    "import statsmodels.stats.multicomp as mc\n",
    "\n",
    "comparison = mc.MultiComparison(newdata['amount'], newdata['lab'])\n",
    "tukey = comparison.tukeyhsd(alpha = 0.1) # alpha = 0.05 is the default\n",
    "print(tukey.summary() )\n"
   ]
  },
  {
   "cell_type": "code",
   "execution_count": 16,
   "metadata": {},
   "outputs": [
    {
     "name": "stdout",
     "output_type": "stream",
     "text": [
      "BartlettResult(statistic=24.369716004698912, pvalue=0.0004464732077665512)\n"
     ]
    }
   ],
   "source": [
    "#############   Equal Variances TEST:\n",
    "\n",
    "#Bartlett test (when samples are assumed normality):\n",
    "Bar = scipy.stats.bartlett(lab1, lab2, lab3, lab4, lab5, lab6, lab7)\n",
    "print(Bar)"
   ]
  },
  {
   "cell_type": "code",
   "execution_count": 17,
   "metadata": {},
   "outputs": [
    {
     "name": "stdout",
     "output_type": "stream",
     "text": [
      "LeveneResult(statistic=2.2444617178390893, pvalue=0.050181442540930994)\n"
     ]
    }
   ],
   "source": [
    "#############   Equal Variances TEST:\n",
    "\n",
    "#Levene test (when distribution of samples are unknown)\n",
    "Levene = scipy.stats.levene(lab1, lab2, lab3, lab4, lab5, lab6, lab7)\n",
    "print(Levene)"
   ]
  },
  {
   "cell_type": "code",
   "execution_count": 18,
   "metadata": {},
   "outputs": [
    {
     "name": "stdout",
     "output_type": "stream",
     "text": [
      "(0.9744956493377686, 0.16336943209171295)\n",
      "(0.952541708946228, 0.0098727997392416)\n"
     ]
    }
   ],
   "source": [
    "##### Normality checking :\n",
    "\n",
    "# Shappiro Wilk Test (used for our course):\n",
    "from scipy.stats import shapiro\n",
    "Shapiro1 = scipy.stats.shapiro(amount) # for the variable amount\n",
    "print(Shapiro1)\n",
    "Shapiro2 = scipy.stats.shapiro(mod.resid) # for the residuals of Anova\n",
    "print(Shapiro2)"
   ]
  },
  {
   "cell_type": "code",
   "execution_count": 19,
   "metadata": {},
   "outputs": [
    {
     "name": "stdout",
     "output_type": "stream",
     "text": [
      "Ks_2sampResult(statistic=0.12857142857142856, pvalue=0.5795548581933454)\n"
     ]
    }
   ],
   "source": [
    "##### normality checking :\n",
    "# Kolmogorov Smirnov Test for the variable amount\n",
    "test = np.random.normal(mean(amount), np.std(amount), 70 )\n",
    "KS = scipy.stats.ks_2samp(amount,test)\n",
    "print(KS)"
   ]
  },
  {
   "cell_type": "code",
   "execution_count": 20,
   "metadata": {},
   "outputs": [
    {
     "name": "stdout",
     "output_type": "stream",
     "text": [
      "Ks_2sampResult(statistic=0.08571428571428574, pvalue=0.9504984566743319)\n"
     ]
    }
   ],
   "source": [
    "##### normality checking :\n",
    "# Kolmogorov Smirnov Test for the residuals\n",
    "res = np.random.normal(mean(mod.resid), np.std(mod.resid), 70 ) #(***)\n",
    "KS_res = scipy.stats.ks_2samp(mod.resid,res)\n",
    "print(KS_res) # p-value can be different due to the randomness in (***)"
   ]
  },
  {
   "cell_type": "code",
   "execution_count": null,
   "metadata": {},
   "outputs": [],
   "source": []
  },
  {
   "cell_type": "code",
   "execution_count": 92,
   "metadata": {},
   "outputs": [],
   "source": []
  },
  {
   "cell_type": "code",
   "execution_count": null,
   "metadata": {},
   "outputs": [],
   "source": []
  },
  {
   "cell_type": "code",
   "execution_count": null,
   "metadata": {},
   "outputs": [],
   "source": []
  }
 ],
 "metadata": {
  "kernelspec": {
   "display_name": "Python 3",
   "language": "python",
   "name": "python3"
  },
  "language_info": {
   "codemirror_mode": {
    "name": "ipython",
    "version": 3
   },
   "file_extension": ".py",
   "mimetype": "text/x-python",
   "name": "python",
   "nbconvert_exporter": "python",
   "pygments_lexer": "ipython3",
   "version": "3.7.6"
  }
 },
 "nbformat": 4,
 "nbformat_minor": 4
}
